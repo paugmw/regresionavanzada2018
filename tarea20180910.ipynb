{
 "cells": [
  {
   "cell_type": "markdown",
   "metadata": {},
   "source": [
    "# Tarea\n",
    "\n",
    "_Jorge III Altamirano Astorga - 175904_\n",
    "\n",
    "Dado $ \\theta = Beta(a_0, b_0) $\n",
    "\n",
    "Encontrar $a_0$ y $b_0$ en:\n",
    "\n",
    "$$\n",
    "E(\\theta) = 0.6 = \\frac{a_0}{a_0+b_0}\n",
    "$$\n",
    "\n",
    "\n",
    "$$\n",
    "Var(\\theta) = (0.04)^2 = \\frac{a_0 b_0}{(a_0+b_0)^2 (a_0 + b_0 + 1)}\n",
    "$$"
   ]
  },
  {
   "cell_type": "markdown",
   "metadata": {},
   "source": [
    "### Desarrollo\n",
    "\n",
    "Inicialización del ambiente simbólico Python: sympy"
   ]
  },
  {
   "cell_type": "code",
   "execution_count": 1,
   "metadata": {},
   "outputs": [],
   "source": [
    "from sympy import *\n",
    "init_printing()\n",
    "a_0, b_0 = symbols(\"a_0, b_0\")"
   ]
  },
  {
   "cell_type": "markdown",
   "metadata": {},
   "source": [
    "Ingreso de $E(\\theta)$"
   ]
  },
  {
   "cell_type": "code",
   "execution_count": 2,
   "metadata": {},
   "outputs": [
    {
     "data": {
      "image/png": "[encoded data removed]",
      "text/latex": [
       "$$\\frac{a_{0}}{a_{0} + b_{0}} - 0.6$$"
      ],
      "text/plain": [
       "   a₀        \n",
       "─────── - 0.6\n",
       "a₀ + b₀      "
      ]
     },
     "execution_count": 2,
     "metadata": {},
     "output_type": "execute_result"
    }
   ],
   "source": [
    "μ = a_0 / (a_0 + b_0) - 0.6\n",
    "μ"
   ]
  },
  {
   "cell_type": "markdown",
   "metadata": {},
   "source": [
    "Ingreso de la varianza $Var(\\theta)$"
   ]
  },
  {
   "cell_type": "code",
   "execution_count": 3,
   "metadata": {},
   "outputs": [
    {
     "data": {
      "image/png": "[encoded data removed]",
      "text/latex": [
       "$$\\frac{a_{0} b_{0}}{\\left(a_{0} + b_{0}\\right)^{2} \\left(a_{0} + b_{0} + 1\\right)} - 0.0016$$"
      ],
      "text/plain": [
       "         a₀⋅b₀                   \n",
       "──────────────────────── - 0.0016\n",
       "         2                       \n",
       "(a₀ + b₀) ⋅(a₀ + b₀ + 1)         "
      ]
     },
     "execution_count": 3,
     "metadata": {},
     "output_type": "execute_result"
    }
   ],
   "source": [
    "σ = (a_0*b_0)/((a_0+b_0)**2*(a_0 + b_0 + 1))-0.04**2\n",
    "σ"
   ]
  },
  {
   "cell_type": "markdown",
   "metadata": {},
   "source": [
    "Despeje de las variables $a_0$ y $b_0$ en $E(\\theta)$ y $Var(\\theta)$"
   ]
  },
  {
   "cell_type": "code",
   "execution_count": 4,
   "metadata": {},
   "outputs": [
    {
     "data": {
      "image/png": "[encoded data removed]",
      "text/latex": [
       "$$\\left\\{\\left ( 89.4, \\quad 59.6\\right )\\right\\}$$"
      ],
      "text/plain": [
       "{(89.4, 59.6)}"
      ]
     },
     "execution_count": 4,
     "metadata": {},
     "output_type": "execute_result"
    }
   ],
   "source": [
    "sol = nonlinsolve([μ,σ], (a_0, b_0))\n",
    "sol"
   ]
  },
  {
   "cell_type": "markdown",
   "metadata": {},
   "source": [
    "## Solución\n",
    "\n",
    "Sustituyendo $\\theta = Beta(a_0, b_0)$,\n",
    "\n",
    "$\\therefore \\ \\theta \\sim Beta(89.4, 59.6)$\n",
    "\n",
    "## Bibliografía\n",
    "\n",
    "* [Sympy - Solvers](https://docs.sympy.org/latest/tutorial/solvers.html)"
   ]
  }
 ],
 "metadata": {
  "kernelspec": {
   "display_name": "Python 3",
   "language": "python",
   "name": "python3"
  },
  "language_info": {
   "codemirror_mode": {
    "name": "ipython",
    "version": 3
   },
   "file_extension": ".py",
   "mimetype": "text/x-python",
   "name": "python",
   "nbconvert_exporter": "python",
   "pygments_lexer": "ipython3",
   "version": "3.6.3"
  }
 },
 "nbformat": 4,
 "nbformat_minor": 2
}
